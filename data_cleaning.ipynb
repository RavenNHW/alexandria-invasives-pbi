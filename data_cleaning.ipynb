{
 "cells": [
  {
   "cell_type": "code",
   "execution_count": 71,
   "id": "349e3dc0-7dfd-4be9-a44b-c21be93f7fc8",
   "metadata": {},
   "outputs": [],
   "source": [
    "#Importing pandas\n",
    "import pandas as pd"
   ]
  },
  {
   "cell_type": "code",
   "execution_count": 72,
   "id": "ca102f32-bec7-421b-b204-1f834dd8c2fc",
   "metadata": {},
   "outputs": [],
   "source": [
    "#Reading the data\n",
    "raw_df = pd.read_csv(\"gbif_data//verbatim.txt\", sep='\\t', lineterminator='\\n',\n",
    "                    usecols=['gbifID', 'eventDate', 'verbatimLocality', 'decimalLatitude', 'decimalLongitude', 'coordinateUncertaintyInMeters', 'scientificName', 'genus', \"stateProvince\", \"verbatimLocality\"])\n",
    "\n",
    "#filtering down just to Virginia\n",
    "raw_df = raw_df[raw_df.stateProvince == \"Virginia\"]\n",
    "\n",
    "#and then filtering just to Alexandria. This will fail if you don't filter down to Virginia first.\n",
    "raw_df = raw_df[raw_df[\"verbatimLocality\"].str.contains(\"Alexandria\")]"
   ]
  },
  {
   "cell_type": "code",
   "execution_count": 73,
   "id": "823d89dc-fe94-4168-b02a-307ce5969785",
   "metadata": {},
   "outputs": [],
   "source": [
    "#Filtering out anything that's over 1000 meters of uncertainty. Somewhat arbitrary in terms of exact number, but filters out some of the outliers\n",
    "raw_df = raw_df[raw_df.coordinateUncertaintyInMeters < 1000]"
   ]
  },
  {
   "cell_type": "code",
   "execution_count": 74,
   "id": "44f97aca-3a3d-4244-9f7e-87558715c227",
   "metadata": {},
   "outputs": [],
   "source": [
    "#extracting just the date \n",
    "raw_df['eventDate']= raw_df['eventDate'].astype(str).str[:10]\n",
    "# and then turning it into actual datetime \n",
    "raw_df['eventDate'] = pd.to_datetime(raw_df.eventDate)"
   ]
  },
  {
   "cell_type": "code",
   "execution_count": 75,
   "id": "43fc40d9-ed2b-4ca8-922b-18e0f59f94c8",
   "metadata": {},
   "outputs": [],
   "source": [
    "#Creating key-value pairs for categorization, to reduce cardinality in PowerBI. Numbers are much cheaper!\n",
    "genus_dict = {\n",
    "    \"Ampelopsis\" : 1, \n",
    "    \"Hedera\"     : 2, \n",
    "    \"Pueraria\"   : 3\n",
    "}\n",
    "\n",
    "#and then applying that to the dataframe \n",
    "raw_df['plant_id'] = raw_df['genus'].map(genus_dict)"
   ]
  },
  {
   "cell_type": "code",
   "execution_count": 76,
   "id": "90495dc8-6394-479a-a23c-5db296c873c7",
   "metadata": {},
   "outputs": [],
   "source": [
    "#Dropping cols we don't need anymore\n",
    "df = raw_df.drop(columns=[\"stateProvince\", \"coordinateUncertaintyInMeters\", \"scientificName\", \"genus\"])"
   ]
  },
  {
   "cell_type": "code",
   "execution_count": 77,
   "id": "376cfb90-79c4-4260-9e5a-a80021645968",
   "metadata": {},
   "outputs": [],
   "source": [
    "#save as a CSV\n",
    "df.to_csv(\"gbif_data//cleaned_inat_data.csv\", index = False)"
   ]
  }
 ],
 "metadata": {
  "kernelspec": {
   "display_name": "Python 3 (ipykernel)",
   "language": "python",
   "name": "python3"
  },
  "language_info": {
   "codemirror_mode": {
    "name": "ipython",
    "version": 3
   },
   "file_extension": ".py",
   "mimetype": "text/x-python",
   "name": "python",
   "nbconvert_exporter": "python",
   "pygments_lexer": "ipython3",
   "version": "3.10.14"
  }
 },
 "nbformat": 4,
 "nbformat_minor": 5
}
